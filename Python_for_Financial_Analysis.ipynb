{
  "nbformat": 4,
  "nbformat_minor": 0,
  "metadata": {
    "colab": {
      "name": "Python for Financial Analysis.ipynb",
      "provenance": [],
      "collapsed_sections": []
    },
    "kernelspec": {
      "display_name": "Python 3",
      "name": "python3"
    }
  },
  "cells": [
    {
      "cell_type": "markdown",
      "metadata": {
        "id": "gLF5yZNQUidw"
      },
      "source": [
        "# **Week 1**\n"
      ]
    },
    {
      "cell_type": "markdown",
      "metadata": {
        "id": "keDbfCZOVZHQ"
      },
      "source": [
        "## Libraries\n",
        "\n",
        "**Pandas :** Providing, fast, flexible data structures. It's good to use for doing data analysis. Example: DataFrame, Time Series\n",
        "\n",
        "**Numpy : ** Linear Algebra, Random Numbers\n",
        "\n",
        "**Matplotlib**, **Statsmodels ** "
      ]
    },
    {
      "cell_type": "code",
      "metadata": {
        "id": "-Qi8nsN2Uk9n",
        "outputId": "22964c13-dedb-4fba-fa2e-40a1217d1045",
        "colab": {
          "base_uri": "https://localhost:8080/"
        }
      },
      "source": [
        "##importing data from CSV File\n",
        "\n",
        "#libraries\n",
        "import pandas as pd\n",
        "\n",
        "\n",
        "\"\"\"\n",
        "  Since the new pandas version 0.21.0 we use pd.read_csv instead of from_csv method\n",
        "\"\"\"\n",
        "fb = pd.read_csv(\"/data/FB.csv\")\n",
        "print(type(fb)) ##Pandas/DataFrame"
      ],
      "execution_count": null,
      "outputs": [
        {
          "output_type": "stream",
          "text": [
            "<class 'pandas.core.frame.DataFrame'>\n"
          ],
          "name": "stdout"
        }
      ]
    },
    {
      "cell_type": "markdown",
      "metadata": {
        "id": "8u0bwM9sXrJY"
      },
      "source": [
        "###Basics of DataFrame"
      ]
    },
    {
      "cell_type": "code",
      "metadata": {
        "id": "xxNHBI1mXQMQ",
        "outputId": "1244e64b-b6a5-4038-ab66-9a99423b7fba",
        "colab": {
          "base_uri": "https://localhost:8080/",
          "height": 419
        }
      },
      "source": [
        "fb.head() #first 6 rows with all columns\n",
        "fb[\"Date\"][0:10] #first teen rows of Date column\n",
        "fb.columns # return columns\n",
        "fb.shape #number of rows and columns 2015x7 matrix\n",
        "    #rows = observations, columns = variables\n",
        "\n",
        "\n",
        "#methods of dataframe\n",
        "\n",
        "fb.tail() #last 5 row\n",
        "fb.describe() #summarizing the measures such as std, mean, min, q1,q2,q3 value and max\n",
        "\n",
        "\n",
        "#slicing dataframe\n",
        "fb.loc[0, 'Close'] #index, label - 0.index's column value\n",
        "fb.iloc[1,3] #selecting by index it starts with zero so 1th row 3th column\n",
        "fb.iloc[0:5, 0:-1] ##multible\n",
        "fb.iloc[612: , : ] #all columns and all the rows beginning from 612\n",
        "fb[[\"Open\", \"Close\"]] ##multi columns and all rows"
      ],
      "execution_count": null,
      "outputs": [
        {
          "output_type": "execute_result",
          "data": {
            "text/html": [
              "<div>\n",
              "<style scoped>\n",
              "    .dataframe tbody tr th:only-of-type {\n",
              "        vertical-align: middle;\n",
              "    }\n",
              "\n",
              "    .dataframe tbody tr th {\n",
              "        vertical-align: top;\n",
              "    }\n",
              "\n",
              "    .dataframe thead th {\n",
              "        text-align: right;\n",
              "    }\n",
              "</style>\n",
              "<table border=\"1\" class=\"dataframe\">\n",
              "  <thead>\n",
              "    <tr style=\"text-align: right;\">\n",
              "      <th></th>\n",
              "      <th>Open</th>\n",
              "      <th>Close</th>\n",
              "    </tr>\n",
              "  </thead>\n",
              "  <tbody>\n",
              "    <tr>\n",
              "      <th>0</th>\n",
              "      <td>21.240000</td>\n",
              "      <td>21.170000</td>\n",
              "    </tr>\n",
              "    <tr>\n",
              "      <th>1</th>\n",
              "      <td>20.850000</td>\n",
              "      <td>20.469999</td>\n",
              "    </tr>\n",
              "    <tr>\n",
              "      <th>2</th>\n",
              "      <td>20.520000</td>\n",
              "      <td>19.990000</td>\n",
              "    </tr>\n",
              "    <tr>\n",
              "      <th>3</th>\n",
              "      <td>19.959999</td>\n",
              "      <td>19.209999</td>\n",
              "    </tr>\n",
              "    <tr>\n",
              "      <th>4</th>\n",
              "      <td>19.150000</td>\n",
              "      <td>20.070000</td>\n",
              "    </tr>\n",
              "    <tr>\n",
              "      <th>...</th>\n",
              "      <td>...</td>\n",
              "      <td>...</td>\n",
              "    </tr>\n",
              "    <tr>\n",
              "      <th>2010</th>\n",
              "      <td>274.500000</td>\n",
              "      <td>263.109985</td>\n",
              "    </tr>\n",
              "    <tr>\n",
              "      <th>2011</th>\n",
              "      <td>264.600006</td>\n",
              "      <td>261.359985</td>\n",
              "    </tr>\n",
              "    <tr>\n",
              "      <th>2012</th>\n",
              "      <td>263.160004</td>\n",
              "      <td>265.299988</td>\n",
              "    </tr>\n",
              "    <tr>\n",
              "      <th>2013</th>\n",
              "      <td>281.000000</td>\n",
              "      <td>287.380005</td>\n",
              "    </tr>\n",
              "    <tr>\n",
              "      <th>2014</th>\n",
              "      <td>291.899994</td>\n",
              "      <td>294.679993</td>\n",
              "    </tr>\n",
              "  </tbody>\n",
              "</table>\n",
              "<p>2015 rows × 2 columns</p>\n",
              "</div>"
            ],
            "text/plain": [
              "            Open       Close\n",
              "0      21.240000   21.170000\n",
              "1      20.850000   20.469999\n",
              "2      20.520000   19.990000\n",
              "3      19.959999   19.209999\n",
              "4      19.150000   20.070000\n",
              "...          ...         ...\n",
              "2010  274.500000  263.109985\n",
              "2011  264.600006  261.359985\n",
              "2012  263.160004  265.299988\n",
              "2013  281.000000  287.380005\n",
              "2014  291.899994  294.679993\n",
              "\n",
              "[2015 rows x 2 columns]"
            ]
          },
          "metadata": {
            "tags": []
          },
          "execution_count": 72
        }
      ]
    },
    {
      "cell_type": "markdown",
      "metadata": {
        "id": "B6axinkEdxJf"
      },
      "source": [
        "####***Visualizing Stock Price using Pandas*** "
      ]
    },
    {
      "cell_type": "code",
      "metadata": {
        "id": "_hWW12yOd02X",
        "outputId": "4fb76dee-f92d-4a03-940e-f431dde5c899",
        "colab": {
          "base_uri": "https://localhost:8080/",
          "height": 282
        }
      },
      "source": [
        "#we don't always need matplotlib. there's some plotting method within  pandas\n",
        "fb.iloc[:,  5].plot()"
      ],
      "execution_count": null,
      "outputs": [
        {
          "output_type": "execute_result",
          "data": {
            "text/plain": [
              "<matplotlib.axes._subplots.AxesSubplot at 0x7f78b4a1ddd8>"
            ]
          },
          "metadata": {
            "tags": []
          },
          "execution_count": 64
        },
        {
          "output_type": "display_data",
          "data": {
            "image/png": "[encoded data removed]",
            "text/plain": [
              "<Figure size 432x288 with 1 Axes>"
            ]
          },
          "metadata": {
            "tags": []
          }
        }
      ]
    },
    {
      "cell_type": "markdown",
      "metadata": {
        "id": "ZsPr2qMIgQCe"
      },
      "source": [
        "###Generating new Variables in DataFrame\n"
      ]
    },
    {
      "cell_type": "code",
      "metadata": {
        "id": "q6WpHmxogUvM",
        "outputId": "dbde4456-8523-47a0-fd8c-89d68871e650",
        "colab": {
          "base_uri": "https://localhost:8080/",
          "height": 282
        }
      },
      "source": [
        "fb[\"Price1\"] = fb[\"Close\"].shift(-1)\n",
        "#shifts a whole column upwards by one row\n",
        "fb[\"PriceDiff\"] = fb[\"Price1\"]- fb[\"Close\"] #close price of tomorrow - close price of today\n",
        "fb[\"DailyReturn\"] = fb[\"PriceDiff\"]/fb[\"Close\"]\n",
        "fb[\"Direction\"] = [1 if fb.loc[ei, \"PriceDiff\"] > 0 else -1\n",
        "                   for ei in fb.index]\n",
        "\n",
        "fb[\"Average3\"] = (fb[\"Close\"] + fb[\"Close\"].shift(1) + fb[\"Close\"].shift(2))/3\n",
        "\n",
        "\n",
        "\n",
        "fb[\"MA40\"] = fb[\"Close\"].rolling(40).mean() #Moving Average over 40 days\n",
        "fb[\"MA200\"] = fb[\"Close\"].rolling(200).mean() #Moving Average over 200 days\n",
        "\n",
        "\n",
        "#plot moving areage\n",
        "fb[\"Close\"].plot()\n",
        "fb[\"MA40\"].plot()\n",
        "fb[\"MA200\"].plot()\n",
        "\n",
        "# IF MA40> MA200 - Trend-Following : Stock Price will be higher"
      ],
      "execution_count": null,
      "outputs": [
        {
          "output_type": "execute_result",
          "data": {
            "text/plain": [
              "<matplotlib.axes._subplots.AxesSubplot at 0x7f78b3d40c18>"
            ]
          },
          "metadata": {
            "tags": []
          },
          "execution_count": 107
        },
        {
          "output_type": "display_data",
          "data": {
            "image/png": "[encoded data removed]",
            "text/plain": [
              "<Figure size 432x288 with 1 Axes>"
            ]
          },
          "metadata": {
            "tags": []
          }
        }
      ]
    },
    {
      "cell_type": "code",
      "metadata": {
        "id": "2x8fRRWqkFEu",
        "outputId": "72da6755-4517-428f-bcdb-9369407b8874",
        "colab": {
          "base_uri": "https://localhost:8080/",
          "height": 326
        }
      },
      "source": [
        "fb.tail()"
      ],
      "execution_count": null,
      "outputs": [
        {
          "output_type": "execute_result",
          "data": {
            "text/html": [
              "<div>\n",
              "<style scoped>\n",
              "    .dataframe tbody tr th:only-of-type {\n",
              "        vertical-align: middle;\n",
              "    }\n",
              "\n",
              "    .dataframe tbody tr th {\n",
              "        vertical-align: top;\n",
              "    }\n",
              "\n",
              "    .dataframe thead th {\n",
              "        text-align: right;\n",
              "    }\n",
              "</style>\n",
              "<table border=\"1\" class=\"dataframe\">\n",
              "  <thead>\n",
              "    <tr style=\"text-align: right;\">\n",
              "      <th></th>\n",
              "      <th>Date</th>\n",
              "      <th>Open</th>\n",
              "      <th>High</th>\n",
              "      <th>Low</th>\n",
              "      <th>Close</th>\n",
              "      <th>Adj Close</th>\n",
              "      <th>Volume</th>\n",
              "      <th>Price1</th>\n",
              "      <th>PriceDiff</th>\n",
              "      <th>DailyReturn</th>\n",
              "      <th>Direction</th>\n",
              "      <th>Average3</th>\n",
              "      <th>MA40</th>\n",
              "      <th>MA200</th>\n",
              "    </tr>\n",
              "  </thead>\n",
              "  <tbody>\n",
              "    <tr>\n",
              "      <th>2010</th>\n",
              "      <td>2020-10-30</td>\n",
              "      <td>274.500000</td>\n",
              "      <td>276.700012</td>\n",
              "      <td>259.100006</td>\n",
              "      <td>263.109985</td>\n",
              "      <td>263.109985</td>\n",
              "      <td>47247800</td>\n",
              "      <td>261.359985</td>\n",
              "      <td>-1.750000</td>\n",
              "      <td>-0.006651</td>\n",
              "      <td>-1</td>\n",
              "      <td>270.536662</td>\n",
              "      <td>266.092751</td>\n",
              "      <td>226.759901</td>\n",
              "    </tr>\n",
              "    <tr>\n",
              "      <th>2011</th>\n",
              "      <td>2020-11-02</td>\n",
              "      <td>264.600006</td>\n",
              "      <td>270.470001</td>\n",
              "      <td>257.339996</td>\n",
              "      <td>261.359985</td>\n",
              "      <td>261.359985</td>\n",
              "      <td>27165700</td>\n",
              "      <td>265.299988</td>\n",
              "      <td>3.940003</td>\n",
              "      <td>0.015075</td>\n",
              "      <td>1</td>\n",
              "      <td>268.433319</td>\n",
              "      <td>265.558500</td>\n",
              "      <td>226.956001</td>\n",
              "    </tr>\n",
              "    <tr>\n",
              "      <th>2012</th>\n",
              "      <td>2020-11-03</td>\n",
              "      <td>263.160004</td>\n",
              "      <td>270.049988</td>\n",
              "      <td>260.880005</td>\n",
              "      <td>265.299988</td>\n",
              "      <td>265.299988</td>\n",
              "      <td>17961900</td>\n",
              "      <td>287.380005</td>\n",
              "      <td>22.080017</td>\n",
              "      <td>0.083227</td>\n",
              "      <td>1</td>\n",
              "      <td>263.256653</td>\n",
              "      <td>265.412000</td>\n",
              "      <td>227.175301</td>\n",
              "    </tr>\n",
              "    <tr>\n",
              "      <th>2013</th>\n",
              "      <td>2020-11-04</td>\n",
              "      <td>281.000000</td>\n",
              "      <td>288.940002</td>\n",
              "      <td>278.619995</td>\n",
              "      <td>287.380005</td>\n",
              "      <td>287.380005</td>\n",
              "      <td>35364400</td>\n",
              "      <td>294.679993</td>\n",
              "      <td>7.299988</td>\n",
              "      <td>0.025402</td>\n",
              "      <td>1</td>\n",
              "      <td>271.346659</td>\n",
              "      <td>265.753500</td>\n",
              "      <td>227.505600</td>\n",
              "    </tr>\n",
              "    <tr>\n",
              "      <th>2014</th>\n",
              "      <td>2020-11-05</td>\n",
              "      <td>291.899994</td>\n",
              "      <td>297.380005</td>\n",
              "      <td>288.950012</td>\n",
              "      <td>294.679993</td>\n",
              "      <td>294.679993</td>\n",
              "      <td>23780800</td>\n",
              "      <td>NaN</td>\n",
              "      <td>NaN</td>\n",
              "      <td>NaN</td>\n",
              "      <td>-1</td>\n",
              "      <td>282.453329</td>\n",
              "      <td>266.418250</td>\n",
              "      <td>227.880200</td>\n",
              "    </tr>\n",
              "  </tbody>\n",
              "</table>\n",
              "</div>"
            ],
            "text/plain": [
              "            Date        Open        High  ...    Average3        MA40       MA200\n",
              "2010  2020-10-30  274.500000  276.700012  ...  270.536662  266.092751  226.759901\n",
              "2011  2020-11-02  264.600006  270.470001  ...  268.433319  265.558500  226.956001\n",
              "2012  2020-11-03  263.160004  270.049988  ...  263.256653  265.412000  227.175301\n",
              "2013  2020-11-04  281.000000  288.940002  ...  271.346659  265.753500  227.505600\n",
              "2014  2020-11-05  291.899994  297.380005  ...  282.453329  266.418250  227.880200\n",
              "\n",
              "[5 rows x 14 columns]"
            ]
          },
          "metadata": {
            "tags": []
          },
          "execution_count": 108
        }
      ]
    },
    {
      "cell_type": "markdown",
      "metadata": {
        "id": "0nNzZmFwpvSB"
      },
      "source": [
        "###Building a Trading Strategy"
      ]
    },
    {
      "cell_type": "code",
      "metadata": {
        "id": "oW_ZQz1Gpy3Q",
        "outputId": "90e4428d-7811-451a-ab98-f5ce395f09a8",
        "colab": {
          "background_save": true,
          "base_uri": "https://localhost:8080/",
          "height": 198
        }
      },
      "source": [
        "## Short-Term Moving Average : Fast Signal | Long-Term MA : Slow Signal\n",
        "## if MA 10 > MA 50 -> BUY AND HOLD ONE\n",
        "## if MA 10 < MA 50 -> SOLD AND DON'T HOLD ANY\n",
        "\n",
        "fb[\"MA10\"] = fb[\"Close\"].rolling(10).mean() #Moving Average over 40 days\n",
        "fb[\"MA50\"] = fb[\"Close\"].rolling(50).mean() #Moving Average over 40 days\n",
        "fb[\"Shares\"] = [1 if fb.loc[ei, \"MA10\"] > ms.loc[ei, \"MA50\"] else 0\n",
        "                for ei in ms.index]\n",
        "\n",
        "fb.head()"
      ],
      "execution_count": null,
      "outputs": [
        {
          "output_type": "display_data",
          "data": {
            "image/png": "[encoded data removed]",
            "text/plain": [
              "<Figure size 432x288 with 1 Axes>"
            ]
          },
          "metadata": {
            "tags": []
          }
        }
      ]
    },
    {
      "cell_type": "code",
      "metadata": {
        "id": "WDstfP65p15K",
        "outputId": "5d524a45-329b-495b-90cb-a54a4550eab7",
        "colab": {
          "background_save": true
        }
      },
      "source": [
        ""
      ],
      "execution_count": null,
      "outputs": [
        {
          "output_type": "execute_result",
          "data": {
            "text/html": [
              "<div>\n",
              "<style scoped>\n",
              "    .dataframe tbody tr th:only-of-type {\n",
              "        vertical-align: middle;\n",
              "    }\n",
              "\n",
              "    .dataframe tbody tr th {\n",
              "        vertical-align: top;\n",
              "    }\n",
              "\n",
              "    .dataframe thead th {\n",
              "        text-align: right;\n",
              "    }\n",
              "</style>\n",
              "<table border=\"1\" class=\"dataframe\">\n",
              "  <thead>\n",
              "    <tr style=\"text-align: right;\">\n",
              "      <th></th>\n",
              "      <th>Date</th>\n",
              "      <th>Open</th>\n",
              "      <th>High</th>\n",
              "      <th>Low</th>\n",
              "      <th>Close</th>\n",
              "      <th>Adj Close</th>\n",
              "      <th>Volume</th>\n",
              "      <th>Price1</th>\n",
              "      <th>PriceDiff</th>\n",
              "      <th>DailyReturn</th>\n",
              "      <th>Direction</th>\n",
              "      <th>Average3</th>\n",
              "      <th>MA40</th>\n",
              "      <th>MA200</th>\n",
              "      <th>MA10</th>\n",
              "      <th>MA50</th>\n",
              "      <th>Shares</th>\n",
              "      <th>Close1</th>\n",
              "      <th>Profit</th>\n",
              "      <th>wealth</th>\n",
              "    </tr>\n",
              "  </thead>\n",
              "  <tbody>\n",
              "    <tr>\n",
              "      <th>0</th>\n",
              "      <td>2012-11-06</td>\n",
              "      <td>21.240000</td>\n",
              "      <td>21.370001</td>\n",
              "      <td>20.990000</td>\n",
              "      <td>21.170000</td>\n",
              "      <td>21.170000</td>\n",
              "      <td>29062700</td>\n",
              "      <td>20.469999</td>\n",
              "      <td>-0.700001</td>\n",
              "      <td>-0.033066</td>\n",
              "      <td>-1</td>\n",
              "      <td>NaN</td>\n",
              "      <td>NaN</td>\n",
              "      <td>NaN</td>\n",
              "      <td>NaN</td>\n",
              "      <td>NaN</td>\n",
              "      <td>0</td>\n",
              "      <td>20.469999</td>\n",
              "      <td>0.000000</td>\n",
              "      <td>0.000000</td>\n",
              "    </tr>\n",
              "    <tr>\n",
              "      <th>1</th>\n",
              "      <td>2012-11-07</td>\n",
              "      <td>20.850000</td>\n",
              "      <td>20.950001</td>\n",
              "      <td>20.370001</td>\n",
              "      <td>20.469999</td>\n",
              "      <td>20.469999</td>\n",
              "      <td>33396800</td>\n",
              "      <td>19.990000</td>\n",
              "      <td>-0.479999</td>\n",
              "      <td>-0.023449</td>\n",
              "      <td>-1</td>\n",
              "      <td>NaN</td>\n",
              "      <td>NaN</td>\n",
              "      <td>NaN</td>\n",
              "      <td>NaN</td>\n",
              "      <td>NaN</td>\n",
              "      <td>0</td>\n",
              "      <td>19.990000</td>\n",
              "      <td>0.000000</td>\n",
              "      <td>0.000000</td>\n",
              "    </tr>\n",
              "    <tr>\n",
              "      <th>2</th>\n",
              "      <td>2012-11-08</td>\n",
              "      <td>20.520000</td>\n",
              "      <td>20.730000</td>\n",
              "      <td>19.980000</td>\n",
              "      <td>19.990000</td>\n",
              "      <td>19.990000</td>\n",
              "      <td>34254600</td>\n",
              "      <td>19.209999</td>\n",
              "      <td>-0.780001</td>\n",
              "      <td>-0.039020</td>\n",
              "      <td>-1</td>\n",
              "      <td>20.543333</td>\n",
              "      <td>NaN</td>\n",
              "      <td>NaN</td>\n",
              "      <td>NaN</td>\n",
              "      <td>NaN</td>\n",
              "      <td>0</td>\n",
              "      <td>19.209999</td>\n",
              "      <td>0.000000</td>\n",
              "      <td>0.000000</td>\n",
              "    </tr>\n",
              "    <tr>\n",
              "      <th>3</th>\n",
              "      <td>2012-11-09</td>\n",
              "      <td>19.959999</td>\n",
              "      <td>20.000000</td>\n",
              "      <td>19.129999</td>\n",
              "      <td>19.209999</td>\n",
              "      <td>19.209999</td>\n",
              "      <td>42295500</td>\n",
              "      <td>20.070000</td>\n",
              "      <td>0.860001</td>\n",
              "      <td>0.044768</td>\n",
              "      <td>1</td>\n",
              "      <td>19.889999</td>\n",
              "      <td>NaN</td>\n",
              "      <td>NaN</td>\n",
              "      <td>NaN</td>\n",
              "      <td>NaN</td>\n",
              "      <td>0</td>\n",
              "      <td>20.070000</td>\n",
              "      <td>0.000000</td>\n",
              "      <td>0.000000</td>\n",
              "    </tr>\n",
              "    <tr>\n",
              "      <th>4</th>\n",
              "      <td>2012-11-12</td>\n",
              "      <td>19.150000</td>\n",
              "      <td>20.170000</td>\n",
              "      <td>18.870001</td>\n",
              "      <td>20.070000</td>\n",
              "      <td>20.070000</td>\n",
              "      <td>67349200</td>\n",
              "      <td>19.860001</td>\n",
              "      <td>-0.209999</td>\n",
              "      <td>-0.010463</td>\n",
              "      <td>-1</td>\n",
              "      <td>19.756666</td>\n",
              "      <td>NaN</td>\n",
              "      <td>NaN</td>\n",
              "      <td>NaN</td>\n",
              "      <td>NaN</td>\n",
              "      <td>0</td>\n",
              "      <td>19.860001</td>\n",
              "      <td>0.000000</td>\n",
              "      <td>0.000000</td>\n",
              "    </tr>\n",
              "    <tr>\n",
              "      <th>...</th>\n",
              "      <td>...</td>\n",
              "      <td>...</td>\n",
              "      <td>...</td>\n",
              "      <td>...</td>\n",
              "      <td>...</td>\n",
              "      <td>...</td>\n",
              "      <td>...</td>\n",
              "      <td>...</td>\n",
              "      <td>...</td>\n",
              "      <td>...</td>\n",
              "      <td>...</td>\n",
              "      <td>...</td>\n",
              "      <td>...</td>\n",
              "      <td>...</td>\n",
              "      <td>...</td>\n",
              "      <td>...</td>\n",
              "      <td>...</td>\n",
              "      <td>...</td>\n",
              "      <td>...</td>\n",
              "      <td>...</td>\n",
              "    </tr>\n",
              "    <tr>\n",
              "      <th>2010</th>\n",
              "      <td>2020-10-30</td>\n",
              "      <td>274.500000</td>\n",
              "      <td>276.700012</td>\n",
              "      <td>259.100006</td>\n",
              "      <td>263.109985</td>\n",
              "      <td>263.109985</td>\n",
              "      <td>47247800</td>\n",
              "      <td>261.359985</td>\n",
              "      <td>-1.750000</td>\n",
              "      <td>-0.006651</td>\n",
              "      <td>-1</td>\n",
              "      <td>270.536662</td>\n",
              "      <td>266.092751</td>\n",
              "      <td>226.759901</td>\n",
              "      <td>274.260999</td>\n",
              "      <td>270.719602</td>\n",
              "      <td>1</td>\n",
              "      <td>261.359985</td>\n",
              "      <td>-1.750000</td>\n",
              "      <td>126.259998</td>\n",
              "    </tr>\n",
              "    <tr>\n",
              "      <th>2011</th>\n",
              "      <td>2020-11-02</td>\n",
              "      <td>264.600006</td>\n",
              "      <td>270.470001</td>\n",
              "      <td>257.339996</td>\n",
              "      <td>261.359985</td>\n",
              "      <td>261.359985</td>\n",
              "      <td>27165700</td>\n",
              "      <td>265.299988</td>\n",
              "      <td>3.940003</td>\n",
              "      <td>0.015075</td>\n",
              "      <td>1</td>\n",
              "      <td>268.433319</td>\n",
              "      <td>265.558500</td>\n",
              "      <td>226.956001</td>\n",
              "      <td>274.256998</td>\n",
              "      <td>270.606601</td>\n",
              "      <td>1</td>\n",
              "      <td>265.299988</td>\n",
              "      <td>3.940003</td>\n",
              "      <td>130.200001</td>\n",
              "    </tr>\n",
              "    <tr>\n",
              "      <th>2012</th>\n",
              "      <td>2020-11-03</td>\n",
              "      <td>263.160004</td>\n",
              "      <td>270.049988</td>\n",
              "      <td>260.880005</td>\n",
              "      <td>265.299988</td>\n",
              "      <td>265.299988</td>\n",
              "      <td>17961900</td>\n",
              "      <td>287.380005</td>\n",
              "      <td>22.080017</td>\n",
              "      <td>0.083227</td>\n",
              "      <td>1</td>\n",
              "      <td>263.256653</td>\n",
              "      <td>265.412000</td>\n",
              "      <td>227.175301</td>\n",
              "      <td>274.030997</td>\n",
              "      <td>270.484801</td>\n",
              "      <td>1</td>\n",
              "      <td>287.380005</td>\n",
              "      <td>22.080017</td>\n",
              "      <td>152.280018</td>\n",
              "    </tr>\n",
              "    <tr>\n",
              "      <th>2013</th>\n",
              "      <td>2020-11-04</td>\n",
              "      <td>281.000000</td>\n",
              "      <td>288.940002</td>\n",
              "      <td>278.619995</td>\n",
              "      <td>287.380005</td>\n",
              "      <td>287.380005</td>\n",
              "      <td>35364400</td>\n",
              "      <td>294.679993</td>\n",
              "      <td>7.299988</td>\n",
              "      <td>0.025402</td>\n",
              "      <td>1</td>\n",
              "      <td>271.346659</td>\n",
              "      <td>265.753500</td>\n",
              "      <td>227.505600</td>\n",
              "      <td>274.895996</td>\n",
              "      <td>270.616001</td>\n",
              "      <td>1</td>\n",
              "      <td>294.679993</td>\n",
              "      <td>7.299988</td>\n",
              "      <td>159.580006</td>\n",
              "    </tr>\n",
              "    <tr>\n",
              "      <th>2014</th>\n",
              "      <td>2020-11-05</td>\n",
              "      <td>291.899994</td>\n",
              "      <td>297.380005</td>\n",
              "      <td>288.950012</td>\n",
              "      <td>294.679993</td>\n",
              "      <td>294.679993</td>\n",
              "      <td>23780800</td>\n",
              "      <td>NaN</td>\n",
              "      <td>NaN</td>\n",
              "      <td>NaN</td>\n",
              "      <td>-1</td>\n",
              "      <td>282.453329</td>\n",
              "      <td>266.418250</td>\n",
              "      <td>227.880200</td>\n",
              "      <td>276.551996</td>\n",
              "      <td>270.431400</td>\n",
              "      <td>1</td>\n",
              "      <td>NaN</td>\n",
              "      <td>NaN</td>\n",
              "      <td>NaN</td>\n",
              "    </tr>\n",
              "  </tbody>\n",
              "</table>\n",
              "<p>2015 rows × 20 columns</p>\n",
              "</div>"
            ],
            "text/plain": [
              "            Date        Open        High  ...      Close1     Profit      wealth\n",
              "0     2012-11-06   21.240000   21.370001  ...   20.469999   0.000000    0.000000\n",
              "1     2012-11-07   20.850000   20.950001  ...   19.990000   0.000000    0.000000\n",
              "2     2012-11-08   20.520000   20.730000  ...   19.209999   0.000000    0.000000\n",
              "3     2012-11-09   19.959999   20.000000  ...   20.070000   0.000000    0.000000\n",
              "4     2012-11-12   19.150000   20.170000  ...   19.860001   0.000000    0.000000\n",
              "...          ...         ...         ...  ...         ...        ...         ...\n",
              "2010  2020-10-30  274.500000  276.700012  ...  261.359985  -1.750000  126.259998\n",
              "2011  2020-11-02  264.600006  270.470001  ...  265.299988   3.940003  130.200001\n",
              "2012  2020-11-03  263.160004  270.049988  ...  287.380005  22.080017  152.280018\n",
              "2013  2020-11-04  281.000000  288.940002  ...  294.679993   7.299988  159.580006\n",
              "2014  2020-11-05  291.899994  297.380005  ...         NaN        NaN         NaN\n",
              "\n",
              "[2015 rows x 20 columns]"
            ]
          },
          "metadata": {
            "tags": []
          },
          "execution_count": 0
        }
      ]
    }
  ]
}